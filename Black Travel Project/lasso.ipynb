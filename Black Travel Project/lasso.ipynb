{
 "cells": [
  {
   "attachments": {},
   "cell_type": "markdown",
   "metadata": {},
   "source": [
    "# Lasso \n",
    "### Feature Importance\n",
    "\n",
    "<hr>"
   ]
  },
  {
   "cell_type": "code",
   "execution_count": 1,
   "metadata": {},
   "outputs": [
    {
     "name": "stdout",
     "output_type": "stream",
     "text": [
      "MSE: 6.148544453343199\n",
      "R2 Score: 0.9452636692140831\n"
     ]
    }
   ],
   "source": [
    "from sklearn import linear_model\n",
    "import pandas as pd\n",
    "import numpy as np\n",
    "from sklearn.model_selection import KFold\n",
    "from sklearn.metrics import r2_score\n",
    "\n",
    "\n",
    "# loading dataframe\n",
    "df_state_demo = pd.read_csv('state_demographics.csv')\n",
    "\n",
    "# only including int/float columns\n",
    "x_feat_list = list(df_state_demo.columns)\n",
    "x_feat_list.remove(\"State\")\n",
    "x_feat_list.remove(\"Ethnicities.Black Alone\") # removing the y_feat\n",
    "\n",
    "# scale normalization\n",
    "for feat in x_feat_list:\n",
    "    df_state_demo[feat] = df_state_demo[feat] / df_state_demo[feat].std()\n",
    "\n",
    "# setting the x and y values\n",
    "x = df_state_demo.loc[:, x_feat_list].values\n",
    "y = df_state_demo.loc[:, \"Ethnicities.Black Alone\"].values\n",
    "\n",
    "# initialization of models\n",
    "lreg = linear_model.Lasso(alpha=0.1) # 0.5 chosen for mid-range penalization \n",
    "skfold = KFold(n_splits=20, shuffle=True)\n",
    "\n",
    "# to store predictions\n",
    "y_pred = np.empty(y.shape)\n",
    "\n",
    "# cross validation\n",
    "for train_idx, test_idx in skfold.split(x, y):\n",
    "    # split into train and test sets\n",
    "    x_train = x[train_idx, :]\n",
    "    y_train = y[train_idx]\n",
    "    x_test = x[test_idx, :]\n",
    "\n",
    "    # fit Lasso on training set\n",
    "    lreg.fit(x_train, y_train)\n",
    "\n",
    "    # predicting\n",
    "    y_pred[test_idx] = lreg.predict(x_test)\n",
    "\n",
    "mse = np.mean((y_pred - y) ** 2)\n",
    "r2 = r2_score(y, y_pred)\n",
    "\n",
    "#-----------------------------------------------------------------------------\n",
    "\n",
    "# Now doing it on the full dataset\n",
    "# fitting the model\n",
    "lreg.fit(x,y)\n",
    "\n",
    "# # coefficients \n",
    "lreg_coefs = list(lreg.coef_)\n",
    "\n",
    "# # to store feature/coef pairs\n",
    "answer_dict = {}\n",
    "\n",
    "for lreg_coef, x_feat in zip(lreg_coefs, x_feat_list):\n",
    "    # only keeping features whose coefficient is of value (i.e not 0)\n",
    "    if (lreg_coef != 0):\n",
    "        answer_dict[x_feat] = lreg_coef\n",
    "\n",
    "print(f\"MSE: {mse}\")\n",
    "print(f\"R2 Score: {r2}\")"
   ]
  }
 ],
 "metadata": {
  "kernelspec": {
   "display_name": "Python 3",
   "language": "python",
   "name": "python3"
  },
  "language_info": {
   "codemirror_mode": {
    "name": "ipython",
    "version": 3
   },
   "file_extension": ".py",
   "mimetype": "text/x-python",
   "name": "python",
   "nbconvert_exporter": "python",
   "pygments_lexer": "ipython3",
   "version": "3.10.4"
  },
  "orig_nbformat": 4,
  "vscode": {
   "interpreter": {
    "hash": "43eba2052f48a37d58b862f75e230f6b20c3e0cd07151732dfb6e02a01f28569"
   }
  }
 },
 "nbformat": 4,
 "nbformat_minor": 2
}
